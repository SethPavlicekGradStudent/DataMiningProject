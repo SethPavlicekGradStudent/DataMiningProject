{
 "cells": [
  {
   "cell_type": "code",
   "execution_count": 2,
   "metadata": {},
   "outputs": [],
   "source": [
    "import pandas as pd\n",
    "from mlxtend.frequent_patterns import apriori, association_rules"
   ]
  },
  {
   "cell_type": "code",
   "execution_count": 3,
   "metadata": {},
   "outputs": [],
   "source": [
    "heroInvertoryData = pd.read_csv(\"./extraLargeAmountsOfData.csv\")"
   ]
  },
  {
   "cell_type": "code",
   "execution_count": 10,
   "metadata": {},
   "outputs": [
    {
     "name": "stdout",
     "output_type": "stream",
     "text": [
      "Frequent Itemsets:\n",
      "     support             itemsets\n",
      "0   0.219422            (item_63)\n",
      "1   0.192924            (item_50)\n",
      "2   0.090181            (item_41)\n",
      "3   0.465199            (item_36)\n",
      "4   0.170686            (item_29)\n",
      "5   0.093141           (item_244)\n",
      "6   0.099928           (item_232)\n",
      "7   0.094801           (item_218)\n",
      "8   0.153430           (item_214)\n",
      "9   0.093935           (item_188)\n",
      "10  0.111841           (item_180)\n",
      "11  0.285632           (item_116)\n",
      "12  0.150830           (item_108)\n",
      "13  0.133718           (item_102)\n",
      "14  0.306354             (item_1)\n",
      "15  0.285921             (item_0)\n",
      "16  0.097329  (item_63, item_116)\n",
      "17  0.096823   (item_36, item_50)\n",
      "18  0.098845  (item_50, item_116)\n",
      "19  0.101588  (item_214, item_36)\n",
      "20  0.097762  (item_36, item_116)\n",
      "21  0.135957    (item_1, item_36)\n",
      "22  0.137690    (item_36, item_0)\n",
      "23  0.106282   (item_1, item_116)\n",
      "\n",
      "Association Rules:\n",
      "   antecedents consequents  antecedent support  consequent support   support   \n",
      "0    (item_63)  (item_116)            0.219422            0.285632  0.097329  \\\n",
      "1   (item_116)   (item_63)            0.285632            0.219422  0.097329   \n",
      "2    (item_36)   (item_50)            0.465199            0.192924  0.096823   \n",
      "3    (item_50)   (item_36)            0.192924            0.465199  0.096823   \n",
      "4    (item_50)  (item_116)            0.192924            0.285632  0.098845   \n",
      "5   (item_116)   (item_50)            0.285632            0.192924  0.098845   \n",
      "6   (item_214)   (item_36)            0.153430            0.465199  0.101588   \n",
      "7    (item_36)  (item_214)            0.465199            0.153430  0.101588   \n",
      "8    (item_36)    (item_0)            0.465199            0.285921  0.137690   \n",
      "9     (item_0)   (item_36)            0.285921            0.465199  0.137690   \n",
      "10    (item_1)  (item_116)            0.306354            0.285632  0.106282   \n",
      "11  (item_116)    (item_1)            0.285632            0.306354  0.106282   \n",
      "\n",
      "    confidence      lift  representativity  leverage  conviction   \n",
      "0     0.443567  1.552933               1.0  0.034655    1.283835  \\\n",
      "1     0.340748  1.552933               1.0  0.034655    1.184036   \n",
      "2     0.208133  1.078832               1.0  0.007075    1.019206   \n",
      "3     0.501871  1.078832               1.0  0.007075    1.073621   \n",
      "4     0.512350  1.793744               1.0  0.043739    1.464921   \n",
      "5     0.346057  1.793744               1.0  0.043739    1.234168   \n",
      "6     0.662118  1.423301               1.0  0.030213    1.582804   \n",
      "7     0.218377  1.423301               1.0  0.030213    1.083092   \n",
      "8     0.295980  1.035183               1.0  0.004680    1.014289   \n",
      "9     0.481566  1.035183               1.0  0.004680    1.031570   \n",
      "10    0.346924  1.214586               1.0  0.018777    1.093852   \n",
      "11    0.372093  1.214586               1.0  0.018777    1.104696   \n",
      "\n",
      "    zhangs_metric   jaccard  certainty  kulczynski  \n",
      "0        0.456146  0.238711   0.221084    0.392158  \n",
      "1        0.498422  0.238711   0.155431    0.392158  \n",
      "2        0.136634  0.172498   0.018844    0.355002  \n",
      "3        0.090539  0.172498   0.068573    0.355002  \n",
      "4        0.548284  0.260316   0.317369    0.429203  \n",
      "5        0.619438  0.260316   0.189737    0.429203  \n",
      "6        0.351309  0.196481   0.368210    0.440247  \n",
      "7        0.556109  0.196481   0.076718    0.440247  \n",
      "8        0.063551  0.224459   0.014087    0.388773  \n",
      "9        0.047596  0.224459   0.030604    0.388773  \n",
      "10       0.254704  0.218820   0.085800    0.359509  \n",
      "11       0.247315  0.218820   0.094773    0.359509  \n"
     ]
    },
    {
     "name": "stderr",
     "output_type": "stream",
     "text": [
      "c:\\Users\\ziyad\\AppData\\Local\\Programs\\Python\\Python310\\lib\\site-packages\\mlxtend\\frequent_patterns\\fpcommon.py:161: DeprecationWarning: DataFrames with non-bool types result in worse computationalperformance and their support might be discontinued in the future.Please use a DataFrame with bool type\n",
      "  warnings.warn(\n"
     ]
    }
   ],
   "source": [
    "frequent_itemsets = apriori(heroInvertoryData, min_support=0.09, use_colnames=True)\n",
    "# Compute the number of itemsets\n",
    "\n",
    "num_itemsets = len(frequent_itemsets)\n",
    "\n",
    "# Generate association rules (older version)\n",
    "rules = association_rules(frequent_itemsets, num_itemsets=num_itemsets, metric=\"lift\", min_threshold=1.0)\n",
    "\n",
    "print(\"Frequent Itemsets:\")\n",
    "print(frequent_itemsets)\n",
    "\n",
    "print(\"\\nAssociation Rules:\")\n",
    "print(rules)"
   ]
  },
  {
   "cell_type": "markdown",
   "metadata": {},
   "source": []
  },
  {
   "cell_type": "code",
   "execution_count": 12,
   "metadata": {},
   "outputs": [
    {
     "name": "stdout",
     "output_type": "stream",
     "text": [
      "   antecedents consequents  antecedent support  consequent support   support   \n",
      "0    (item_63)  (item_116)            0.219422            0.285632  0.097329  \\\n",
      "1   (item_116)   (item_63)            0.285632            0.219422  0.097329   \n",
      "2    (item_36)   (item_50)            0.465199            0.192924  0.096823   \n",
      "3    (item_50)   (item_36)            0.192924            0.465199  0.096823   \n",
      "4    (item_50)  (item_116)            0.192924            0.285632  0.098845   \n",
      "5   (item_116)   (item_50)            0.285632            0.192924  0.098845   \n",
      "6   (item_214)   (item_36)            0.153430            0.465199  0.101588   \n",
      "7    (item_36)  (item_214)            0.465199            0.153430  0.101588   \n",
      "8    (item_36)    (item_0)            0.465199            0.285921  0.137690   \n",
      "9     (item_0)   (item_36)            0.285921            0.465199  0.137690   \n",
      "10    (item_1)  (item_116)            0.306354            0.285632  0.106282   \n",
      "11  (item_116)    (item_1)            0.285632            0.306354  0.106282   \n",
      "\n",
      "    confidence      lift  representativity  leverage  conviction   \n",
      "0     0.443567  1.552933               1.0  0.034655    1.283835  \\\n",
      "1     0.340748  1.552933               1.0  0.034655    1.184036   \n",
      "2     0.208133  1.078832               1.0  0.007075    1.019206   \n",
      "3     0.501871  1.078832               1.0  0.007075    1.073621   \n",
      "4     0.512350  1.793744               1.0  0.043739    1.464921   \n",
      "5     0.346057  1.793744               1.0  0.043739    1.234168   \n",
      "6     0.662118  1.423301               1.0  0.030213    1.582804   \n",
      "7     0.218377  1.423301               1.0  0.030213    1.083092   \n",
      "8     0.295980  1.035183               1.0  0.004680    1.014289   \n",
      "9     0.481566  1.035183               1.0  0.004680    1.031570   \n",
      "10    0.346924  1.214586               1.0  0.018777    1.093852   \n",
      "11    0.372093  1.214586               1.0  0.018777    1.104696   \n",
      "\n",
      "    zhangs_metric   jaccard  certainty  kulczynski  \n",
      "0        0.456146  0.238711   0.221084    0.392158  \n",
      "1        0.498422  0.238711   0.155431    0.392158  \n",
      "2        0.136634  0.172498   0.018844    0.355002  \n",
      "3        0.090539  0.172498   0.068573    0.355002  \n",
      "4        0.548284  0.260316   0.317369    0.429203  \n",
      "5        0.619438  0.260316   0.189737    0.429203  \n",
      "6        0.351309  0.196481   0.368210    0.440247  \n",
      "7        0.556109  0.196481   0.076718    0.440247  \n",
      "8        0.063551  0.224459   0.014087    0.388773  \n",
      "9        0.047596  0.224459   0.030604    0.388773  \n",
      "10       0.254704  0.218820   0.085800    0.359509  \n",
      "11       0.247315  0.218820   0.094773    0.359509  \n"
     ]
    }
   ],
   "source": [
    "print(rules)"
   ]
  }
 ],
 "metadata": {
  "kernelspec": {
   "display_name": "Python 3",
   "language": "python",
   "name": "python3"
  },
  "language_info": {
   "codemirror_mode": {
    "name": "ipython",
    "version": 3
   },
   "file_extension": ".py",
   "mimetype": "text/x-python",
   "name": "python",
   "nbconvert_exporter": "python",
   "pygments_lexer": "ipython3",
   "version": "3.10.4"
  }
 },
 "nbformat": 4,
 "nbformat_minor": 2
}
